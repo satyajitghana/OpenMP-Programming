{
 "cells": [
  {
   "cell_type": "code",
   "execution_count": 3,
   "metadata": {},
   "outputs": [
    {
     "name": "stdout",
     "output_type": "stream",
     "text": [
      "a =\n",
      "\n",
      "    1    2    3    4\n",
      "    5    6    7    8\n",
      "    9   10   11   12\n",
      "   13   14   15   16\n",
      "\n"
     ]
    }
   ],
   "source": [
    "a = [1 2 3 4; 5 6 7 8; 9 10 11 12; 13 14 15 16]"
   ]
  },
  {
   "cell_type": "code",
   "execution_count": 4,
   "metadata": {},
   "outputs": [
    {
     "name": "stdout",
     "output_type": "stream",
     "text": [
      "ans =\n",
      "\n",
      "    90   100   110   120\n",
      "   202   228   254   280\n",
      "   314   356   398   440\n",
      "   426   484   542   600\n",
      "\n"
     ]
    }
   ],
   "source": [
    "a^2"
   ]
  },
  {
   "cell_type": "code",
   "execution_count": 11,
   "metadata": {},
   "outputs": [
    {
     "name": "stdout",
     "output_type": "stream",
     "text": [
      "a =\n",
      "\n",
      "    1    2\n",
      "    3    4\n",
      "    5    6\n",
      "    7   99\n",
      "\n",
      "b =\n",
      "\n",
      "    1    2    3    4\n",
      "    5    6    7    8\n",
      "    9   10   11   12\n",
      "   13   14   15   16\n",
      "\n"
     ]
    }
   ],
   "source": [
    "a = [1 2; 3 4; 5 6; 7 99]\n",
    "b = [1 2 3 4; 5 6 7 8; 9 10 11 12; 13 14 15 16]"
   ]
  },
  {
   "cell_type": "code",
   "execution_count": 12,
   "metadata": {},
   "outputs": [
    {
     "name": "stdout",
     "output_type": "stream",
     "text": [
      "error: operator *: nonconformant arguments (op1 is 4x2, op2 is 4x4)\n"
     ]
    }
   ],
   "source": [
    "a * b"
   ]
  },
  {
   "cell_type": "code",
   "execution_count": 13,
   "metadata": {},
   "outputs": [
    {
     "name": "stdout",
     "output_type": "stream",
     "text": [
      "ans =\n",
      "\n",
      "    152    168    184    200\n",
      "   1363   1474   1585   1696\n",
      "\n"
     ]
    }
   ],
   "source": [
    "a' * b"
   ]
  },
  {
   "cell_type": "code",
   "execution_count": null,
   "metadata": {},
   "outputs": [],
   "source": []
  }
 ],
 "metadata": {
  "kernelspec": {
   "display_name": "Octave",
   "language": "octave",
   "name": "octave"
  },
  "language_info": {
   "file_extension": ".m",
   "help_links": [
    {
     "text": "GNU Octave",
     "url": "https://www.gnu.org/software/octave/support.html"
    },
    {
     "text": "Octave Kernel",
     "url": "https://github.com/Calysto/octave_kernel"
    },
    {
     "text": "MetaKernel Magics",
     "url": "https://metakernel.readthedocs.io/en/latest/source/README.html"
    }
   ],
   "mimetype": "text/x-octave",
   "name": "octave",
   "version": "5.1.0"
  }
 },
 "nbformat": 4,
 "nbformat_minor": 2
}
