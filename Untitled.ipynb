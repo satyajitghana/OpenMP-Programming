{
 "cells": [
  {
   "cell_type": "code",
   "execution_count": 1,
   "metadata": {},
   "outputs": [],
   "source": [
    "#include <iostream>"
   ]
  },
  {
   "cell_type": "code",
   "execution_count": 2,
   "metadata": {},
   "outputs": [],
   "source": [
    "int m = 2, n = 4, p = 4;"
   ]
  },
  {
   "cell_type": "code",
   "execution_count": 3,
   "metadata": {},
   "outputs": [],
   "source": [
    "int a[4][2] = {{1, 2},{3, 4}, {5, 6}, {7, 99}};\n",
    "int b[4][4] = {{1, 2, 3, 4}, {5, 6, 7, 8}, {9, 10, 11, 12}, {13, 14, 15, 16}};\n",
    "int c[2][4] = {};\n",
    "int s = 1;\n",
    "int temp;"
   ]
  },
  {
   "cell_type": "code",
   "execution_count": 4,
   "metadata": {},
   "outputs": [],
   "source": [
    "memset(c, 0, m*p*sizeof(int));\n",
    "s = 4;"
   ]
  },
  {
   "cell_type": "code",
   "execution_count": 5,
   "metadata": {},
   "outputs": [],
   "source": [
    "for(int jj=0;jj<p;jj+= s){\n",
    "        for(int kk=0;kk<n;kk+= s){\n",
    "                for(int i=0;i<m;i++){\n",
    "                        for(int j = jj; j<((jj+s)>p?p:(jj+s)); j++){\n",
    "                                temp = 0;\n",
    "                                for(int k = kk; k<((kk+s)>n?n:(kk+s)); k++){\n",
    "                                        temp += a[k][i]*b[k][j];\n",
    "                                }\n",
    "                                c[i][j] += temp;\n",
    "                        }\n",
    "                }\n",
    "        }\n",
    "}"
   ]
  },
  {
   "cell_type": "code",
   "execution_count": 6,
   "metadata": {},
   "outputs": [
    {
     "name": "stdout",
     "output_type": "stream",
     "text": [
      "152 168 184 200 \n",
      "1363 1474 1585 1696 \n"
     ]
    }
   ],
   "source": [
    "for (int i = 0 ; i < m ; i++) {\n",
    "    for (int j = 0 ; j < p ; j++) {\n",
    "        std::cout << c[i][j] << \" \";\n",
    "    }\n",
    "    std::cout << std::endl;\n",
    "}"
   ]
  },
  {
   "cell_type": "code",
   "execution_count": null,
   "metadata": {},
   "outputs": [],
   "source": []
  }
 ],
 "metadata": {
  "kernelspec": {
   "display_name": "C++17 [conda env:.conda-cling]",
   "language": "C++17",
   "name": "conda-env-.conda-cling-xcpp17"
  },
  "language_info": {
   "codemirror_mode": "text/x-c++src",
   "file_extension": ".cpp",
   "mimetype": "text/x-c++src",
   "name": "c++",
   "version": "-std=c++17"
  }
 },
 "nbformat": 4,
 "nbformat_minor": 2
}
